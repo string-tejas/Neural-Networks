{
 "cells": [
  {
   "cell_type": "code",
   "execution_count": 2,
   "metadata": {},
   "outputs": [],
   "source": [
    "import numpy as np\n",
    "import matplotlib.pyplot as plt\n",
    "import pandas as pd\n",
    "import json\n",
    "from PIL import Image, ImageDraw"
   ]
  },
  {
   "cell_type": "code",
   "execution_count": 3,
   "metadata": {},
   "outputs": [],
   "source": [
    "data_10 = []\n",
    "\n",
    "with open('Quickdraw/full_raw_airplane.ndjson') as file:\n",
    "    for i in range(10):    \n",
    "        data_10.append(json.loads(file.readline()))\n",
    "\n"
   ]
  },
  {
   "cell_type": "code",
   "execution_count": 4,
   "metadata": {},
   "outputs": [],
   "source": [
    "one = data_10[3]"
   ]
  },
  {
   "cell_type": "code",
   "execution_count": 6,
   "metadata": {},
   "outputs": [],
   "source": [
    "raw_drawing = one['drawing']"
   ]
  },
  {
   "cell_type": "code",
   "execution_count": 7,
   "metadata": {},
   "outputs": [],
   "source": [
    "def get_img(doodle_data):\n",
    "    \n",
    "    fig, ax = plt.subplots(figsize=(2.55, 2.55))\n",
    "\n",
    "    for stroke in doodle_data:\n",
    "        x, y, _ = stroke  \n",
    "        plt.plot(x,y)\n",
    "\n",
    "    plt.gca().invert_yaxis()\n",
    "    ax.axis('off')\n",
    "\n",
    "    fig.canvas.draw()\n",
    "    image = np.frombuffer(fig.canvas.buffer_rgba(), dtype=np.uint8)\n",
    "    image = image.reshape(fig.canvas.get_width_height()[::-1] + (4,))\n",
    "    plt.close(fig)\n",
    "\n",
    "    image_gray = np.dot(image[...,:3], [0.2989, 0.5870, 0.1140])\n",
    "\n",
    "    return image_gray"
   ]
  },
  {
   "cell_type": "code",
   "execution_count": 33,
   "metadata": {},
   "outputs": [],
   "source": [
    "\n",
    "def get_img(doodle_data, img_size=(256, 256), padding=0.2):\n",
    "    image = Image.new(\"L\", img_size, 255)\n",
    "    draw = ImageDraw.Draw(image)\n",
    "\n",
    "    x_min = min(min(stroke[0]) for stroke in doodle_data)\n",
    "    x_max = max(max(stroke[0]) for stroke in doodle_data)\n",
    "    y_min = min(min(stroke[1]) for stroke in doodle_data)\n",
    "    y_max = max(max(stroke[1]) for stroke in doodle_data)\n",
    "\n",
    "    doodle_width = x_max - x_min\n",
    "    doodle_height = y_max - y_min\n",
    "\n",
    "    available_width = img_size[0] * (1 - padding)\n",
    "    available_height = img_size[1] * (1 - padding)\n",
    "\n",
    "    aspect_ratio = doodle_width / doodle_height if doodle_height != 0 else 1\n",
    "    img_aspect_ratio = available_width / available_height\n",
    "\n",
    "    if aspect_ratio > img_aspect_ratio:\n",
    "        scale = available_width / doodle_width\n",
    "    else:\n",
    "        scale = available_height / doodle_height\n",
    "\n",
    "    x_offset = (img_size[0] - doodle_width * scale) / 2\n",
    "    y_offset = (img_size[1] - doodle_height * scale) / 2\n",
    "\n",
    "    for stroke in doodle_data:\n",
    "        x, y, _ = stroke\n",
    "\n",
    "        scaled_x = [x_offset + (v - x_min) * scale for v in x]\n",
    "        scaled_y = [y_offset + (v - y_min) * scale for v in y]\n",
    "\n",
    "        draw.line(list(zip(scaled_x, scaled_y)), fill=0, width=2)\n",
    "\n",
    "    image_gray = np.array(image)\n",
    "\n",
    "    return image_gray\n"
   ]
  },
  {
   "cell_type": "code",
   "execution_count": 37,
   "metadata": {},
   "outputs": [
    {
     "data": {
      "text/plain": [
       "<matplotlib.image.AxesImage at 0x243e649fb90>"
      ]
     },
     "execution_count": 37,
     "metadata": {},
     "output_type": "execute_result"
    },
    {
     "data": {
      "image/png": "[encoded data removed]",
      "text/plain": [
       "<Figure size 640x480 with 1 Axes>"
      ]
     },
     "metadata": {},
     "output_type": "display_data"
    }
   ],
   "source": [
    "img = get_img(data_10[9]['drawing'])\n",
    "plt.imshow(img, cmap='gray')"
   ]
  },
  {
   "cell_type": "code",
   "execution_count": 105,
   "metadata": {},
   "outputs": [
    {
     "data": {
      "text/plain": [
       "(254, 254)"
      ]
     },
     "execution_count": 105,
     "metadata": {},
     "output_type": "execute_result"
    }
   ],
   "source": [
    "img.shape"
   ]
  },
  {
   "cell_type": "code",
   "execution_count": 106,
   "metadata": {},
   "outputs": [
    {
     "data": {
      "text/plain": [
       "64516"
      ]
     },
     "execution_count": 106,
     "metadata": {},
     "output_type": "execute_result"
    }
   ],
   "source": [
    "254 * 254"
   ]
  },
  {
   "cell_type": "code",
   "execution_count": null,
   "metadata": {},
   "outputs": [],
   "source": []
  }
 ],
 "metadata": {
  "kernelspec": {
   "display_name": "Python 3",
   "language": "python",
   "name": "python3"
  },
  "language_info": {
   "codemirror_mode": {
    "name": "ipython",
    "version": 3
   },
   "file_extension": ".py",
   "mimetype": "text/x-python",
   "name": "python",
   "nbconvert_exporter": "python",
   "pygments_lexer": "ipython3",
   "version": "3.12.5"
  }
 },
 "nbformat": 4,
 "nbformat_minor": 2
}
