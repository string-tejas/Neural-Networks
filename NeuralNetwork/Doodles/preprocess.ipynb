{
 "cells": [
  {
   "cell_type": "code",
   "execution_count": 11,
   "metadata": {},
   "outputs": [],
   "source": [
    "import numpy as np\n",
    "import matplotlib.pyplot as plt\n",
    "import pandas as pd\n",
    "import json\n",
    "from PIL import Image, ImageDraw"
   ]
  },
  {
   "cell_type": "code",
   "execution_count": 12,
   "metadata": {},
   "outputs": [],
   "source": [
    "\n",
    "def to_img(doodle_data, img_size=(256, 256), padding=0.2):\n",
    "    image = Image.new(\"L\", img_size, 255)\n",
    "    draw = ImageDraw.Draw(image)\n",
    "\n",
    "    x_min = min(min(stroke[0]) for stroke in doodle_data)\n",
    "    x_max = max(max(stroke[0]) for stroke in doodle_data)\n",
    "    y_min = min(min(stroke[1]) for stroke in doodle_data)\n",
    "    y_max = max(max(stroke[1]) for stroke in doodle_data)\n",
    "\n",
    "    doodle_width = x_max - x_min\n",
    "    doodle_height = y_max - y_min\n",
    "\n",
    "    available_width = img_size[0] * (1 - padding)\n",
    "    available_height = img_size[1] * (1 - padding)\n",
    "\n",
    "    aspect_ratio = doodle_width / doodle_height if doodle_height != 0 else 1\n",
    "    img_aspect_ratio = available_width / available_height\n",
    "\n",
    "    if aspect_ratio > img_aspect_ratio:\n",
    "        scale = available_width / doodle_width\n",
    "    else:\n",
    "        scale = available_height / doodle_height\n",
    "\n",
    "    x_offset = (img_size[0] - doodle_width * scale) / 2\n",
    "    y_offset = (img_size[1] - doodle_height * scale) / 2\n",
    "\n",
    "    for stroke in doodle_data:\n",
    "        x, y, _ = stroke\n",
    "\n",
    "        scaled_x = [x_offset + (v - x_min) * scale for v in x]\n",
    "        scaled_y = [y_offset + (v - y_min) * scale for v in y]\n",
    "\n",
    "        draw.line(list(zip(scaled_x, scaled_y)), fill=0, width=2)\n",
    "\n",
    "    image_gray = np.array(image)\n",
    "\n",
    "    return image_gray\n"
   ]
  },
  {
   "cell_type": "markdown",
   "metadata": {},
   "source": [
    "### Preprocess"
   ]
  },
  {
   "cell_type": "code",
   "execution_count": 23,
   "metadata": {},
   "outputs": [],
   "source": [
    "def create_processed_img(read_path, save_path):\n",
    "    lim = 10_000\n",
    "    jsons = []\n",
    "    with open(read_path) as file:\n",
    "        for i in range(lim):\n",
    "            jsons.append(json.loads(file.readline()))\n",
    "    \n",
    "    drawings = [item['drawing'] for item in jsons]\n",
    "    drawings = [to_img(item) for item in drawings]\n",
    "    drawings = [np.reshape(item, (1, 256 * 256)) for item in drawings]\n",
    "    drawings = np.array(drawings)\n",
    "    np.save(save_path, drawings)\n"
   ]
  },
  {
   "cell_type": "code",
   "execution_count": 24,
   "metadata": {},
   "outputs": [],
   "source": [
    "create_processed_img('Quickdraw/full_raw_airplane.ndjson', 'Processed/airplane.npy')"
   ]
  },
  {
   "cell_type": "code",
   "execution_count": 25,
   "metadata": {},
   "outputs": [],
   "source": [
    "create_processed_img('Quickdraw/full_raw_bicycle.ndjson', 'Processed/bicycle.npy')"
   ]
  },
  {
   "cell_type": "code",
   "execution_count": 26,
   "metadata": {},
   "outputs": [],
   "source": [
    "create_processed_img('Quickdraw/full_raw_ear.ndjson', 'Processed/ear.npy')"
   ]
  },
  {
   "cell_type": "code",
   "execution_count": 27,
   "metadata": {},
   "outputs": [],
   "source": [
    "create_processed_img('Quickdraw/full_raw_rabbit.ndjson', 'Processed/rabbit.npy')"
   ]
  }
 ],
 "metadata": {
  "kernelspec": {
   "display_name": "Python 3",
   "language": "python",
   "name": "python3"
  },
  "language_info": {
   "codemirror_mode": {
    "name": "ipython",
    "version": 3
   },
   "file_extension": ".py",
   "mimetype": "text/x-python",
   "name": "python",
   "nbconvert_exporter": "python",
   "pygments_lexer": "ipython3",
   "version": "3.12.5"
  }
 },
 "nbformat": 4,
 "nbformat_minor": 2
}
